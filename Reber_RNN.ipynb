{
 "cells": [
  {
   "cell_type": "code",
   "execution_count": 1,
   "metadata": {},
   "outputs": [
    {
     "name": "stderr",
     "output_type": "stream",
     "text": [
      "Using TensorFlow backend.\n"
     ]
    }
   ],
   "source": [
    "import nni\n",
    "# import autokeras as ak\n",
    "# from keras.layers import Dense, LSTM, Dropout\n",
    "# from keras.layers.embeddings import Embedding\n",
    "# from keras.models import Sequential\n",
    "from sklearn.model_selection import train_test_split\n",
    "from sklearn.preprocessing import OneHotEncoder\n",
    "import numpy as np\n",
    "import pandas as pd\n",
    "import tensorflow as tf\n",
    "import reber\n",
    "RANDOM_STATE = 42\n",
    "PADDING_IDX = 0"
   ]
  },
  {
   "cell_type": "code",
   "execution_count": 5,
   "metadata": {},
   "outputs": [],
   "source": [
    "r = reber.ReberGenerator(max_length=15)\n",
    "X, y = r.make_data(total_num_rows=3000)\n",
    "_, word_len = X.shape\n",
    "X_train, X_test, y_train, y_test = train_test_split(\n",
    "    X, y, test_size = 0.1, random_state=RANDOM_STATE\n",
    ")"
   ]
  },
  {
   "cell_type": "code",
   "execution_count": 6,
   "metadata": {},
   "outputs": [],
   "source": [
    "class Net():\n",
    "    def __init__(self):\n",
    "        super(Net, self).__init__()\n",
    "        "
   ]
  },
  {
   "cell_type": "code",
   "execution_count": null,
   "metadata": {},
   "outputs": [],
   "source": [
    "## nni\n",
    " "
   ]
  },
  {
   "cell_type": "code",
   "execution_count": 8,
   "metadata": {},
   "outputs": [
    {
     "name": "stdout",
     "output_type": "stream",
     "text": [
      "INFO:tensorflow:Reloading Oracle from existing project ./auto_model/oracle.json\n",
      "INFO:tensorflow:Reloading Tuner from ./auto_model/tuner0.json\n",
      "INFO:tensorflow:Oracle triggered exit\n",
      "Train for 57 steps, validate for 12 steps\n",
      "Epoch 1/2\n",
      "57/57 - 6s - loss: 0.6930 - accuracy: 0.5194 - val_loss: 0.6859 - val_accuracy: 0.5444\n",
      "Epoch 2/2\n",
      "57/57 - 3s - loss: 0.6931 - accuracy: 0.5144 - val_loss: 0.6873 - val_accuracy: 0.5444\n"
     ]
    }
   ],
   "source": [
    "num_features = len(r._reber_letters) + 1 # include padding token\n",
    "# TODO: how to mask in the embedding\n",
    "input_node = ak.Input()\n",
    "output_node = ak.Embedding(max_features=num_features)(input_node)\n",
    "output_node = ak.RNNBlock(\n",
    "    bidirectional=False,\n",
    "    # num_layers=1,\n",
    "    layer_type='gru'\n",
    ")(output_node)\n",
    "output_node = ak.ClassificationHead()(output_node)\n",
    "clf = ak.AutoModel(\n",
    "    inputs=input_node,\n",
    "    outputs=output_node,\n",
    "    max_trials=2\n",
    ")\n",
    "clf.fit(X_train.to_numpy(), y_train.to_numpy(), verbose=2, epochs=2)"
   ]
  },
  {
   "cell_type": "code",
   "execution_count": null,
   "metadata": {},
   "outputs": [],
   "source": [
    "model = clf.export_model()"
   ]
  },
  {
   "cell_type": "code",
   "execution_count": 13,
   "metadata": {},
   "outputs": [],
   "source": [
    "model.save('my_model.h5')"
   ]
  },
  {
   "cell_type": "code",
   "execution_count": 25,
   "metadata": {},
   "outputs": [
    {
     "name": "stderr",
     "output_type": "stream",
     "text": [
      "/usr/local/lib/python3.7/site-packages/tensorflow_core/python/framework/indexed_slices.py:433: UserWarning: Converting sparse IndexedSlices to a dense Tensor of unknown shape. This may consume a large amount of memory.\n",
      "  \"Converting sparse IndexedSlices to a dense Tensor of unknown shape. \"\n"
     ]
    },
    {
     "name": "stdout",
     "output_type": "stream",
     "text": [
      "Train on 80000 samples, validate on 20000 samples\n",
      "Epoch 1/2\n",
      "80000/80000 [==============================] - 17s 217us/step - loss: 0.6903 - accuracy: 0.5657 - val_loss: 0.6851 - val_accuracy: 0.4983\n",
      "Epoch 2/2\n",
      "80000/80000 [==============================] - 18s 224us/step - loss: 0.6665 - accuracy: 0.5379 - val_loss: 0.6395 - val_accuracy: 0.6458\n"
     ]
    }
   ],
   "source": [
    "history = model.fit(\n",
    "    X_train,\n",
    "    y_train,\n",
    "    validation_data=(X_test, y_test),\n",
    "    epochs=1,\n",
    "    batch_size=5000\n",
    ")"
   ]
  },
  {
   "cell_type": "code",
   "execution_count": 6,
   "metadata": {},
   "outputs": [
    {
     "data": {
      "text/plain": [
       "array([[0.46915156],\n",
       "       [0.4183758 ],\n",
       "       [0.41421646],\n",
       "       [0.46194988],\n",
       "       [0.44758365],\n",
       "       [0.43123493]], dtype=float32)"
      ]
     },
     "execution_count": 6,
     "metadata": {},
     "output_type": "execute_result"
    }
   ],
   "source": [
    "strs = [\n",
    "    \"BPBTSSXXVVEPE\", # true reber\n",
    "    \"BPBTSSSSXXVPXTTTVPSETE\", # second and second to last not the same, but reber inbetween\n",
    "    \"BPBPTTTTTVPBTTTTVPSEPT\", # second and second to last the same, but not reber in middle\n",
    "    \"BBBBBBBBBBB\",\n",
    "    \"XXXXXXXXXXXXXX\",\n",
    "    \"TTTTTTTTTTTTTTTTTTT\"\n",
    "]\n",
    "x = np.array([\n",
    "        r.encode_as_padded_ints(s) for s in strs\n",
    "    ])\n",
    "dataset = clf._process_x(x, False)\n",
    "dataset = dataset.batch(6)\n",
    "model = clf.tuner.get_best_model()\n",
    "model.predict(x)"
   ]
  },
  {
   "cell_type": "markdown",
   "metadata": {},
   "source": [
    "Clearly, XXXXXXXXXX is not in the reber grammar, and yet the model predicted with 98.6% certainty that it was. This means that I need to make my examples of non-reber much more random."
   ]
  },
  {
   "cell_type": "code",
   "execution_count": 24,
   "metadata": {},
   "outputs": [],
   "source": [
    "## autokeras\n",
    "embedding_vector_length = len(r._reber_letters) # TODO: what should this be?\n",
    "num_neurons = 60\n",
    "model = Sequential()\n",
    "Embedding\n",
    "model.add(\n",
    "    Embedding(\n",
    "        embedding_vector_length + 1,\n",
    "        embedding_vector_length,\n",
    "        input_length=word_len,\n",
    "        mask_zero=True\n",
    "    )\n",
    ")\n",
    "model.add(LSTM(num_neurons))\n",
    "model.add(Dropout(0.2))\n",
    "model.add(Dense(1, activation='sigmoid'))\n",
    "model.compile(loss='binary_crossentropy', optimizer='adam', metrics=['accuracy'])"
   ]
  }
 ],
 "metadata": {
  "kernelspec": {
   "display_name": "reber-grammar-lstm",
   "language": "python",
   "name": "reber-grammar-lstm"
  },
  "language_info": {
   "codemirror_mode": {
    "name": "ipython",
    "version": 3
   },
   "file_extension": ".py",
   "mimetype": "text/x-python",
   "name": "python",
   "nbconvert_exporter": "python",
   "pygments_lexer": "ipython3",
   "version": "3.7.2"
  }
 },
 "nbformat": 4,
 "nbformat_minor": 2
}
